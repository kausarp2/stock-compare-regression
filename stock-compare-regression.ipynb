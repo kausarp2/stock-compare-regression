{
 "cells": [
  {
   "cell_type": "markdown",
   "metadata": {},
   "source": [
    "### Regression-based analysis of Apple and Microsoft stocks ###\n",
    "\n",
    "Is it possible to derive any relationship between the behavior of two stocks? Through this problem, I have tried to show how regression can be used to understand the behavior of Apple and Microsoft stocks and if there truly is any trace of co-dependedence."
   ]
  },
  {
   "cell_type": "code",
   "execution_count": 1,
   "metadata": {},
   "outputs": [],
   "source": [
    "import pandas as pd\n",
    "import numpy\n",
    "import matplotlib\n",
    "import matplotlib.pyplot as plt\n",
    "from scipy.optimize import minimize"
   ]
  },
  {
   "cell_type": "code",
   "execution_count": 2,
   "metadata": {},
   "outputs": [],
   "source": [
    "#Wanted to increase the font size of my graphs\n",
    "\n",
    "params={\n",
    "    \"font.size\":15\n",
    "}\n",
    "plt.rcParams.update(params)"
   ]
  },
  {
   "cell_type": "markdown",
   "metadata": {},
   "source": [
    "#### I downloaded the historical ticker prices of Apple and Microsoft from https://finance.yahoo.com/. ###"
   ]
  },
  {
   "cell_type": "code",
   "execution_count": 3,
   "metadata": {},
   "outputs": [],
   "source": [
    "msft_file = pd.read_csv('MSFT.csv')\n",
    "aapl_file = pd.read_csv('AAPL.csv')"
   ]
  },
  {
   "cell_type": "code",
   "execution_count": 4,
   "metadata": {},
   "outputs": [
    {
     "data": {
      "text/html": [
       "<div>\n",
       "<style scoped>\n",
       "    .dataframe tbody tr th:only-of-type {\n",
       "        vertical-align: middle;\n",
       "    }\n",
       "\n",
       "    .dataframe tbody tr th {\n",
       "        vertical-align: top;\n",
       "    }\n",
       "\n",
       "    .dataframe thead th {\n",
       "        text-align: right;\n",
       "    }\n",
       "</style>\n",
       "<table border=\"1\" class=\"dataframe\">\n",
       "  <thead>\n",
       "    <tr style=\"text-align: right;\">\n",
       "      <th></th>\n",
       "      <th>Date</th>\n",
       "      <th>Open</th>\n",
       "      <th>High</th>\n",
       "      <th>Low</th>\n",
       "      <th>Close</th>\n",
       "      <th>Adj Close</th>\n",
       "      <th>Volume</th>\n",
       "    </tr>\n",
       "  </thead>\n",
       "  <tbody>\n",
       "    <tr>\n",
       "      <th>0</th>\n",
       "      <td>2018-10-29</td>\n",
       "      <td>108.110001</td>\n",
       "      <td>108.699997</td>\n",
       "      <td>100.110001</td>\n",
       "      <td>106.160004</td>\n",
       "      <td>104.517632</td>\n",
       "      <td>242639700</td>\n",
       "    </tr>\n",
       "    <tr>\n",
       "      <th>1</th>\n",
       "      <td>2018-11-05</td>\n",
       "      <td>106.370003</td>\n",
       "      <td>112.239998</td>\n",
       "      <td>105.900002</td>\n",
       "      <td>109.570000</td>\n",
       "      <td>107.874870</td>\n",
       "      <td>147847300</td>\n",
       "    </tr>\n",
       "    <tr>\n",
       "      <th>2</th>\n",
       "      <td>2018-11-12</td>\n",
       "      <td>109.419998</td>\n",
       "      <td>109.959999</td>\n",
       "      <td>103.910004</td>\n",
       "      <td>108.290001</td>\n",
       "      <td>106.614677</td>\n",
       "      <td>180498800</td>\n",
       "    </tr>\n",
       "    <tr>\n",
       "      <th>3</th>\n",
       "      <td>2018-11-19</td>\n",
       "      <td>108.269997</td>\n",
       "      <td>108.559998</td>\n",
       "      <td>99.349998</td>\n",
       "      <td>103.070000</td>\n",
       "      <td>101.913811</td>\n",
       "      <td>150780100</td>\n",
       "    </tr>\n",
       "    <tr>\n",
       "      <th>4</th>\n",
       "      <td>2018-11-26</td>\n",
       "      <td>104.790001</td>\n",
       "      <td>111.330002</td>\n",
       "      <td>104.580002</td>\n",
       "      <td>110.889999</td>\n",
       "      <td>109.646095</td>\n",
       "      <td>170038000</td>\n",
       "    </tr>\n",
       "  </tbody>\n",
       "</table>\n",
       "</div>"
      ],
      "text/plain": [
       "         Date        Open        High         Low       Close   Adj Close  \\\n",
       "0  2018-10-29  108.110001  108.699997  100.110001  106.160004  104.517632   \n",
       "1  2018-11-05  106.370003  112.239998  105.900002  109.570000  107.874870   \n",
       "2  2018-11-12  109.419998  109.959999  103.910004  108.290001  106.614677   \n",
       "3  2018-11-19  108.269997  108.559998   99.349998  103.070000  101.913811   \n",
       "4  2018-11-26  104.790001  111.330002  104.580002  110.889999  109.646095   \n",
       "\n",
       "      Volume  \n",
       "0  242639700  \n",
       "1  147847300  \n",
       "2  180498800  \n",
       "3  150780100  \n",
       "4  170038000  "
      ]
     },
     "execution_count": 4,
     "metadata": {},
     "output_type": "execute_result"
    }
   ],
   "source": [
    "msft_file.head()"
   ]
  },
  {
   "cell_type": "code",
   "execution_count": 5,
   "metadata": {},
   "outputs": [
    {
     "data": {
      "text/html": [
       "<div>\n",
       "<style scoped>\n",
       "    .dataframe tbody tr th:only-of-type {\n",
       "        vertical-align: middle;\n",
       "    }\n",
       "\n",
       "    .dataframe tbody tr th {\n",
       "        vertical-align: top;\n",
       "    }\n",
       "\n",
       "    .dataframe thead th {\n",
       "        text-align: right;\n",
       "    }\n",
       "</style>\n",
       "<table border=\"1\" class=\"dataframe\">\n",
       "  <thead>\n",
       "    <tr style=\"text-align: right;\">\n",
       "      <th></th>\n",
       "      <th>Date</th>\n",
       "      <th>Open</th>\n",
       "      <th>High</th>\n",
       "      <th>Low</th>\n",
       "      <th>Close</th>\n",
       "      <th>Adj Close</th>\n",
       "      <th>Volume</th>\n",
       "    </tr>\n",
       "  </thead>\n",
       "  <tbody>\n",
       "    <tr>\n",
       "      <th>0</th>\n",
       "      <td>2018-10-29</td>\n",
       "      <td>219.190002</td>\n",
       "      <td>222.360001</td>\n",
       "      <td>205.429993</td>\n",
       "      <td>207.479996</td>\n",
       "      <td>204.309570</td>\n",
       "      <td>270606300</td>\n",
       "    </tr>\n",
       "    <tr>\n",
       "      <th>1</th>\n",
       "      <td>2018-11-05</td>\n",
       "      <td>204.300003</td>\n",
       "      <td>210.119995</td>\n",
       "      <td>198.169998</td>\n",
       "      <td>204.470001</td>\n",
       "      <td>201.345581</td>\n",
       "      <td>191199400</td>\n",
       "    </tr>\n",
       "    <tr>\n",
       "      <th>2</th>\n",
       "      <td>2018-11-12</td>\n",
       "      <td>199.000000</td>\n",
       "      <td>199.850006</td>\n",
       "      <td>185.929993</td>\n",
       "      <td>193.529999</td>\n",
       "      <td>191.237686</td>\n",
       "      <td>242226500</td>\n",
       "    </tr>\n",
       "    <tr>\n",
       "      <th>3</th>\n",
       "      <td>2018-11-19</td>\n",
       "      <td>190.000000</td>\n",
       "      <td>190.699997</td>\n",
       "      <td>172.100006</td>\n",
       "      <td>172.289993</td>\n",
       "      <td>170.249252</td>\n",
       "      <td>164498700</td>\n",
       "    </tr>\n",
       "    <tr>\n",
       "      <th>4</th>\n",
       "      <td>2018-11-26</td>\n",
       "      <td>174.240005</td>\n",
       "      <td>182.800003</td>\n",
       "      <td>170.259995</td>\n",
       "      <td>178.580002</td>\n",
       "      <td>176.464767</td>\n",
       "      <td>213749900</td>\n",
       "    </tr>\n",
       "  </tbody>\n",
       "</table>\n",
       "</div>"
      ],
      "text/plain": [
       "         Date        Open        High         Low       Close   Adj Close  \\\n",
       "0  2018-10-29  219.190002  222.360001  205.429993  207.479996  204.309570   \n",
       "1  2018-11-05  204.300003  210.119995  198.169998  204.470001  201.345581   \n",
       "2  2018-11-12  199.000000  199.850006  185.929993  193.529999  191.237686   \n",
       "3  2018-11-19  190.000000  190.699997  172.100006  172.289993  170.249252   \n",
       "4  2018-11-26  174.240005  182.800003  170.259995  178.580002  176.464767   \n",
       "\n",
       "      Volume  \n",
       "0  270606300  \n",
       "1  191199400  \n",
       "2  242226500  \n",
       "3  164498700  \n",
       "4  213749900  "
      ]
     },
     "execution_count": 5,
     "metadata": {},
     "output_type": "execute_result"
    }
   ],
   "source": [
    "aapl_file.head()"
   ]
  },
  {
   "cell_type": "code",
   "execution_count": 6,
   "metadata": {},
   "outputs": [],
   "source": [
    "aapl = 'AAPL'\n",
    "msft = 'MSFT'"
   ]
  },
  {
   "cell_type": "markdown",
   "metadata": {},
   "source": [
    "#### Adj Close: ##\n",
    "An adjusted closing price is a stock's closing price on any given day of trading that has been amended to include any distributions and corporate actions that occurred at any time prior to the next day."
   ]
  },
  {
   "cell_type": "code",
   "execution_count": 7,
   "metadata": {},
   "outputs": [
    {
     "name": "stdout",
     "output_type": "stream",
     "text": [
      "Date\n",
      "2018-10-29    204.309570\n",
      "2018-11-05    201.345581\n",
      "2018-11-12    191.237686\n",
      "2018-11-19    170.249252\n",
      "2018-11-26    176.464767\n",
      "Name: AAPL, dtype: float64\n",
      "Date\n",
      "2018-10-29    104.517632\n",
      "2018-11-05    107.874870\n",
      "2018-11-12    106.614677\n",
      "2018-11-19    101.913811\n",
      "2018-11-26    109.646095\n",
      "Name: MSFT, dtype: float64\n"
     ]
    }
   ],
   "source": [
    "#Extracting the adjusted closing prices from both the stocks\n",
    "\n",
    "def extractdata(stock):\n",
    "    data = pd.read_csv(stock+\".csv\", index_col = 0)\n",
    "    data.index = pd.to_datetime(data.index)\n",
    "    data_series = pd.Series(data[\"Adj Close\"], name = stock)\n",
    "    return data_series.copy()\n",
    "\n",
    "adj_aapl = extractdata(aapl)\n",
    "adj_msft = extractdata(msft)\n",
    "\n",
    "print(adj_aapl.head())\n",
    "print(adj_msft.head())"
   ]
  },
  {
   "cell_type": "code",
   "execution_count": 8,
   "metadata": {},
   "outputs": [
    {
     "data": {
      "text/html": [
       "<div>\n",
       "<style scoped>\n",
       "    .dataframe tbody tr th:only-of-type {\n",
       "        vertical-align: middle;\n",
       "    }\n",
       "\n",
       "    .dataframe tbody tr th {\n",
       "        vertical-align: top;\n",
       "    }\n",
       "\n",
       "    .dataframe thead th {\n",
       "        text-align: right;\n",
       "    }\n",
       "</style>\n",
       "<table border=\"1\" class=\"dataframe\">\n",
       "  <thead>\n",
       "    <tr style=\"text-align: right;\">\n",
       "      <th></th>\n",
       "      <th>AAPL</th>\n",
       "      <th>MSFT</th>\n",
       "    </tr>\n",
       "    <tr>\n",
       "      <th>Date</th>\n",
       "      <th></th>\n",
       "      <th></th>\n",
       "    </tr>\n",
       "  </thead>\n",
       "  <tbody>\n",
       "    <tr>\n",
       "      <th>2018-10-29</th>\n",
       "      <td>204.309570</td>\n",
       "      <td>104.517632</td>\n",
       "    </tr>\n",
       "    <tr>\n",
       "      <th>2018-11-05</th>\n",
       "      <td>201.345581</td>\n",
       "      <td>107.874870</td>\n",
       "    </tr>\n",
       "    <tr>\n",
       "      <th>2018-11-12</th>\n",
       "      <td>191.237686</td>\n",
       "      <td>106.614677</td>\n",
       "    </tr>\n",
       "    <tr>\n",
       "      <th>2018-11-19</th>\n",
       "      <td>170.249252</td>\n",
       "      <td>101.913811</td>\n",
       "    </tr>\n",
       "    <tr>\n",
       "      <th>2018-11-26</th>\n",
       "      <td>176.464767</td>\n",
       "      <td>109.646095</td>\n",
       "    </tr>\n",
       "  </tbody>\n",
       "</table>\n",
       "</div>"
      ],
      "text/plain": [
       "                  AAPL        MSFT\n",
       "Date                              \n",
       "2018-10-29  204.309570  104.517632\n",
       "2018-11-05  201.345581  107.874870\n",
       "2018-11-12  191.237686  106.614677\n",
       "2018-11-19  170.249252  101.913811\n",
       "2018-11-26  176.464767  109.646095"
      ]
     },
     "execution_count": 8,
     "metadata": {},
     "output_type": "execute_result"
    }
   ],
   "source": [
    "#Merging the two into one table\n",
    "\n",
    "prices = pd.concat([adj_aapl, adj_msft], axis=\"columns\", join=\"outer\")\n",
    "prices.head()"
   ]
  },
  {
   "cell_type": "code",
   "execution_count": 9,
   "metadata": {},
   "outputs": [
    {
     "data": {
      "text/html": [
       "<div>\n",
       "<style scoped>\n",
       "    .dataframe tbody tr th:only-of-type {\n",
       "        vertical-align: middle;\n",
       "    }\n",
       "\n",
       "    .dataframe tbody tr th {\n",
       "        vertical-align: top;\n",
       "    }\n",
       "\n",
       "    .dataframe thead th {\n",
       "        text-align: right;\n",
       "    }\n",
       "</style>\n",
       "<table border=\"1\" class=\"dataframe\">\n",
       "  <thead>\n",
       "    <tr style=\"text-align: right;\">\n",
       "      <th></th>\n",
       "      <th>AAPL</th>\n",
       "      <th>MSFT</th>\n",
       "    </tr>\n",
       "    <tr>\n",
       "      <th>Date</th>\n",
       "      <th></th>\n",
       "      <th></th>\n",
       "    </tr>\n",
       "  </thead>\n",
       "  <tbody>\n",
       "    <tr>\n",
       "      <th>2018-11-05</th>\n",
       "      <td>-0.014507</td>\n",
       "      <td>0.032121</td>\n",
       "    </tr>\n",
       "    <tr>\n",
       "      <th>2018-11-12</th>\n",
       "      <td>-0.050202</td>\n",
       "      <td>-0.011682</td>\n",
       "    </tr>\n",
       "    <tr>\n",
       "      <th>2018-11-19</th>\n",
       "      <td>-0.109751</td>\n",
       "      <td>-0.044092</td>\n",
       "    </tr>\n",
       "    <tr>\n",
       "      <th>2018-11-26</th>\n",
       "      <td>0.036508</td>\n",
       "      <td>0.075871</td>\n",
       "    </tr>\n",
       "    <tr>\n",
       "      <th>2018-12-03</th>\n",
       "      <td>-0.056501</td>\n",
       "      <td>-0.054739</td>\n",
       "    </tr>\n",
       "  </tbody>\n",
       "</table>\n",
       "</div>"
      ],
      "text/plain": [
       "                AAPL      MSFT\n",
       "Date                          \n",
       "2018-11-05 -0.014507  0.032121\n",
       "2018-11-12 -0.050202 -0.011682\n",
       "2018-11-19 -0.109751 -0.044092\n",
       "2018-11-26  0.036508  0.075871\n",
       "2018-12-03 -0.056501 -0.054739"
      ]
     },
     "execution_count": 9,
     "metadata": {},
     "output_type": "execute_result"
    }
   ],
   "source": [
    "#Now we need a table with only the returns from both stocks\n",
    "\n",
    "temp_a  = prices.shift()\n",
    "temp_b = (prices/temp_a)-1\n",
    "returns = temp_b.dropna()\n",
    "returns.head()"
   ]
  },
  {
   "cell_type": "code",
   "execution_count": 10,
   "metadata": {},
   "outputs": [
    {
     "data": {
      "image/png": "[encoded data removed]",
      "text/plain": [
       "<Figure size 432x288 with 1 Axes>"
      ]
     },
     "metadata": {
      "needs_background": "light"
     },
     "output_type": "display_data"
    }
   ],
   "source": [
    "#Let's graph this\n",
    "\n",
    "plt.figure()\n",
    "plt.scatter(returns[aapl], returns[msft], color=\"blue\")\n",
    "plt.xlabel(aapl + \" returns x\")\n",
    "plt.ylabel(msft + \" returns y\")\n",
    "plt.title(\"Daily Returns Comparison\")\n",
    "plt.show()\n",
    "plt.close()"
   ]
  },
  {
   "cell_type": "code",
   "execution_count": 11,
   "metadata": {},
   "outputs": [],
   "source": [
    "#This is where we are going to go back in and do our linear regression functions. We name them x and y so that we can use easier names for data functions.\n",
    "\n",
    "data_1 = 100*returns.rename(columns={aapl:\"x\",msft:\"y\"})\n",
    "data_2 = 100*returns.rename(columns={msft:\"x\",aapl:\"y\"})"
   ]
  },
  {
   "cell_type": "code",
   "execution_count": 12,
   "metadata": {},
   "outputs": [],
   "source": [
    "#Creating a refression class that will help us regress both Apple and Microsoft values\n",
    "\n",
    "class Regression:\n",
    "    def __init__(self, data):\n",
    "        self.xvals = data[\"x\"]\n",
    "        self.yvals = data[\"y\"]\n",
    "        self.reset()\n",
    "        \n",
    "    def reset(self):\n",
    "        self.ctr = 0\n",
    "        self.callbacktext = []\n",
    "        \n",
    "    def make_linear_function(self, m, b):\n",
    "        def linear_function(x):\n",
    "            return m*x+b\n",
    "        return linear_function\n",
    "    \n",
    "    def Err(self, x):\n",
    "        (m,b) = x\n",
    "        linear_function = self.make_linear_function(m,b)\n",
    "        err = self.yvals - linear_function(self.xvals)\n",
    "        return 0.5*numpy.mean(err**2)\n",
    "    \n",
    "    def Err_grad(self,x):\n",
    "        (m,b)=x\n",
    "        linear_function=self.make_linear_function(m,b)\n",
    "        err=self.yvals-linear_function(self.xvals)\n",
    "        out=numpy.array([-numpy.mean(self.xvals*err),-numpy.mean(err)])\n",
    "        return out\n",
    "    \n",
    "    def callback(self,x,verbose=False):\n",
    "        (m,b)=x\n",
    "        outstr=\"ctr={0:}; (m,b)=({1:.3f},{2:.2E}); error={3:.2E}\".format(self.ctr,m,b,self.Err(x))\n",
    "        self.callbacktext.append(outstr)\n",
    "        if verbose:\n",
    "            print(outstr)\n",
    "        self.ctr+=1"
   ]
  },
  {
   "cell_type": "code",
   "execution_count": 13,
   "metadata": {},
   "outputs": [],
   "source": [
    "firstregression = Regression(data_1)\n",
    "secondregression = Regression(data_2)"
   ]
  },
  {
   "cell_type": "code",
   "execution_count": 14,
   "metadata": {},
   "outputs": [
    {
     "name": "stdout",
     "output_type": "stream",
     "text": [
      "m1=0.45998987558774235; b1=0.45194449270437365\n",
      "m2=0.8192838028636809; b2=-0.08686779037760307\n"
     ]
    }
   ],
   "source": [
    "bestline_1 = minimize(firstregression.Err,[0,0],callback=firstregression.callback)\n",
    "(m_best1,b_best1) = bestline_1[\"x\"]\n",
    "print(\"m1={0:}; b1={1:}\".format(m_best1,b_best1))\n",
    "\n",
    "bestline_2 = minimize(secondregression.Err,[0,0],callback=secondregression.callback)\n",
    "(m_best2,b_best2) = bestline_2[\"x\"]\n",
    "print(\"m2={0:}; b2={1:}\".format(m_best2,b_best2))"
   ]
  },
  {
   "cell_type": "code",
   "execution_count": 15,
   "metadata": {},
   "outputs": [
    {
     "data": {
      "image/png": "[encoded data removed]",
      "text/plain": [
       "<Figure size 432x288 with 1 Axes>"
      ]
     },
     "metadata": {
      "needs_background": "light"
     },
     "output_type": "display_data"
    }
   ],
   "source": [
    "plt.figure()\n",
    "plt.scatter(data_1[\"x\"],data_1[\"y\"],label=None,color=\"red\")\n",
    "plt.xlabel(\"Apple\")\n",
    "plt.ylabel(\"Microsoft\")\n",
    "xlims=numpy.array(plt.gca().get_xlim())\n",
    "plt.plot(xlims,m_best1*xlims+b_best1,color=\"blue\",label=\"{0:.4f}x{1:+.4f}; Error={2:.4f}\".format(m_best1,b_best1,firstregression.Err((m_best1,b_best1))))\n",
    "plt.legend()\n",
    "plt.title(\"Least Squares Regression of Microsoft vs Apple\")\n",
    "plt.show()\n",
    "plt.close()"
   ]
  },
  {
   "cell_type": "code",
   "execution_count": 16,
   "metadata": {},
   "outputs": [
    {
     "data": {
      "image/png": "[encoded data removed]",
      "text/plain": [
       "<Figure size 432x288 with 1 Axes>"
      ]
     },
     "metadata": {
      "needs_background": "light"
     },
     "output_type": "display_data"
    }
   ],
   "source": [
    "plt.figure()\n",
    "plt.scatter(data_2[\"x\"],data_2[\"y\"],label=None,color=\"red\")\n",
    "plt.ylabel(\"Apple\")\n",
    "plt.xlabel(\"Microsoft\")\n",
    "xlims=numpy.array(plt.gca().get_xlim())\n",
    "plt.plot(xlims,m_best2*xlims+b_best2,color=\"blue\",label=\"{0:.4f}x{1:+.4f}; Error={2:.4f}\".format(m_best2,b_best2,secondregression.Err((m_best1,b_best1))))\n",
    "plt.legend()\n",
    "plt.title(\"Least Squares Regression of Apple vs Microsoft\")\n",
    "plt.show()\n",
    "plt.close()"
   ]
  },
  {
   "cell_type": "markdown",
   "metadata": {},
   "source": [
    "## Solution\n",
    "\n",
    "From what we've observed, it can be concluded that the Microsoft prices drive the Apple prices more than the opposite. Be using the Least Squares Regression technique, we found that the slope of Apple vs Microsoft (0.8193) is clearly greater than the slope of Microsoft vs Apple (0.4600). Changes in Microsoft's price will affect Apple's price more than the other way round."
   ]
  }
 ],
 "metadata": {
  "kernelspec": {
   "display_name": "Python 3",
   "language": "python",
   "name": "python3"
  },
  "language_info": {
   "codemirror_mode": {
    "name": "ipython",
    "version": 3
   },
   "file_extension": ".py",
   "mimetype": "text/x-python",
   "name": "python",
   "nbconvert_exporter": "python",
   "pygments_lexer": "ipython3",
   "version": "3.7.3"
  }
 },
 "nbformat": 4,
 "nbformat_minor": 2
}
